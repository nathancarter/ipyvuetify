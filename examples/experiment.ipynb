{
 "cells": [
  {
   "cell_type": "code",
   "execution_count": 1,
   "metadata": {},
   "outputs": [],
   "source": [
    "import ipywidgets\n",
    "import ipyvuetify as v\n",
    "from threading import Timer\n",
    "\n",
    "lorum_ipsum = 'Lorem ipsum dolor sit amet, consectetur adipiscing elit, sed do eiusmod tempor incididunt ut labore et dolore magna aliqua. Ut enim ad minim veniam, quis nostrud exercitation ullamco laboris nisi ut aliquip ex ea commodo consequat. Duis aute irure dolor in reprehenderit in voluptate velit esse cillum dolore eu fugiat nulla pariatur. Excepteur sint occaecat cupidatat non proident, sunt in culpa qui officia deserunt mollit anim id est laborum.'"
   ]
  },
  {
   "cell_type": "code",
   "execution_count": 15,
   "metadata": {},
   "outputs": [
    {
     "data": {
      "application/vnd.jupyter.widget-view+json": {
       "model_id": "f0abb5d57c314dbfb7c01a7f71ed74a5",
       "version_major": 2,
       "version_minor": 0
      },
      "text/plain": [
       "Html(children=[Html(children=[Button(description='0', style=ButtonStyle())], class_='packery-item', style_='bo…"
      ]
     },
     "metadata": {},
     "output_type": "display_data"
    }
   ],
   "source": [
    "count = 0\n",
    "\n",
    "def on_click(widget, event, data):\n",
    "    global count\n",
    "    count += 1\n",
    "    button1.children=[f'button {count}']\n",
    "\n",
    "#button1 = v.Btn(children=['button'])\n",
    "#button1.on_event('click', on_click)\n",
    "#v.Layout(children=[button1])\n",
    "def make_button ( i ):\n",
    "    count = 0\n",
    "    B = ipywidgets.Button( description=str(count) )\n",
    "    def increase_my_number ( thing ):\n",
    "        B.description = str(int(B.description)+1)\n",
    "    B.on_click( increase_my_number )\n",
    "    return B\n",
    "v.Html(tag='div',\n",
    "       vue_directives='[{\"name\":\"packery\",\"value\":{\"itemSelector\":\".packery-item\",\"columnWidth\":100,\"rowHeight\":100}}]',\n",
    "       children=[\n",
    "    v.Html(tag='div',\n",
    "           vue_directives='[{\"name\":\"packery-item\",\"value\":true},{\"name\":\"draggabilly\",\"value\":true}]',\n",
    "           class_='packery-item',\n",
    "           style_='border: solid 1px black; width: %dpx; height: 95px;'%(95*(1+i%2)),\n",
    "           children=[\n",
    "        make_button( i )\n",
    "    ])\n",
    "    for i in range(5)\n",
    "])"
   ]
  },
  {
   "cell_type": "code",
   "execution_count": null,
   "metadata": {},
   "outputs": [],
   "source": []
  }
 ],
 "metadata": {
  "kernelspec": {
   "display_name": "Python 3",
   "language": "python",
   "name": "python3"
  },
  "language_info": {
   "codemirror_mode": {
    "name": "ipython",
    "version": 3
   },
   "file_extension": ".py",
   "mimetype": "text/x-python",
   "name": "python",
   "nbconvert_exporter": "python",
   "pygments_lexer": "ipython3",
   "version": "3.7.3"
  }
 },
 "nbformat": 4,
 "nbformat_minor": 2
}
